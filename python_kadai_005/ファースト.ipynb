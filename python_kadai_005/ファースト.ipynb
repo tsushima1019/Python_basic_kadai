{
  "nbformat": 4,
  "nbformat_minor": 0,
  "metadata": {
    "colab": {
      "provenance": []
    },
    "kernelspec": {
      "name": "python3",
      "display_name": "Python 3"
    },
    "language_info": {
      "name": "python"
    }
  },
  "cells": [
    {
      "cell_type": "markdown",
      "source": [],
      "metadata": {
        "id": "HLCN1NK-BmcT"
      }
    },
    {
      "cell_type": "code",
      "source": [
        "# 上辺、下辺、高さをそれぞれ変数に代入\n",
        "upper_base = 10  # 上辺（cm）\n",
        "lower_base = 20  # 下辺（cm）\n",
        "height = 5       # 高さ（cm）\n",
        "\n",
        "# 台形の面積を計算する（公式：(上辺 + 下辺) × 高さ ÷ 2）\n",
        "area = (upper_base + lower_base) * height / 2\n",
        "\n",
        "# 結果を「◯◯cm²」として出力\n",
        "print(f\"{area}cm²\")"
      ],
      "metadata": {
        "id": "wrJHOeRC0BDN",
        "colab": {
          "base_uri": "https://localhost:8080/"
        },
        "outputId": "e5a4b3a6-1ef6-494e-9f18-0d6f13f996b3"
      },
      "execution_count": 1,
      "outputs": [
        {
          "output_type": "stream",
          "name": "stdout",
          "text": [
            "75.0cm²\n"
          ]
        }
      ]
    }
  ]
}