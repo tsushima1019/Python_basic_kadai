{
  "nbformat": 4,
  "nbformat_minor": 0,
  "metadata": {
    "colab": {
      "provenance": []
    },
    "kernelspec": {
      "name": "python3",
      "display_name": "Python 3"
    },
    "language_info": {
      "name": "python"
    }
  },
  "cells": [
    {
      "cell_type": "code",
      "execution_count": 1,
      "metadata": {
        "colab": {
          "base_uri": "https://localhost:8080/"
        },
        "id": "buKXC78k4Qla",
        "outputId": "232fa07b-0743-429e-e25f-789cb5f111e0"
      },
      "outputs": [
        {
          "output_type": "stream",
          "name": "stdout",
          "text": [
            "税込金額: 121.0\n"
          ]
        }
      ],
      "source": [
        "def calc_total_with_tax(price, tax_rate):\n",
        "    # price: 商品の金額 (例: 110)\n",
        "    # tax_rate: 税率 (%) (例: 10)\n",
        "    total = price + (price * tax_rate / 100)\n",
        "    return total\n",
        "\n",
        "# 例: 商品金額110, 消費税10%\n",
        "result = calc_total_with_tax(110, 10)\n",
        "print(\"税込金額:\", result)\n"
      ]
    }
  ]
}