{
  "nbformat": 4,
  "nbformat_minor": 0,
  "metadata": {
    "colab": {
      "provenance": []
    },
    "kernelspec": {
      "name": "python3",
      "display_name": "Python 3"
    },
    "language_info": {
      "name": "python"
    }
  },
  "cells": [
    {
      "cell_type": "code",
      "source": [
        "price1 = 100\n",
        "price2 = 200\n",
        "\n",
        "tax = 1.1  # グローバルスコープで定義\n",
        "\n",
        "def total():\n",
        "    # 価格の合計のみ返す\n",
        "    return price1 + price2\n",
        "\n",
        "# 関数外で税計算\n",
        "print(total() * tax)\n"
      ],
      "metadata": {
        "id": "qDVCVvTR7EAS",
        "outputId": "51d852a8-73f4-4871-d6fb-9b4ddb05dea0",
        "colab": {
          "base_uri": "https://localhost:8080/"
        }
      },
      "execution_count": 4,
      "outputs": [
        {
          "output_type": "stream",
          "name": "stdout",
          "text": [
            "330.0\n"
          ]
        }
      ]
    }
  ]
}